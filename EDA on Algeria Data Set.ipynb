{
 "cells": [
  {
   "cell_type": "markdown",
   "id": "59bba689",
   "metadata": {},
   "source": [
    "# EDA on Alegria fire forest"
   ]
  },
  {
   "cell_type": "markdown",
   "id": "966cfe6a",
   "metadata": {},
   "source": [
    "By Andan M\n",
    "GitHub: https://github.com/andanm \n",
    "LinkedIn: https://www.linkedin.com/in/andan-m-854bb824a/"
   ]
  },
  {
   "cell_type": "markdown",
   "id": "337941d1",
   "metadata": {},
   "source": [
    "Dataset link: https://archive.ics.uci.edu/ml/datasets/Algerian+Forest+Fires+Dataset++#"
   ]
  },
  {
   "cell_type": "code",
   "execution_count": 1,
   "id": "51f3a3e7",
   "metadata": {},
   "outputs": [],
   "source": [
    "#Importing the required libraries\n",
    "\n",
    "import pandas as pd\n",
    "import numpy as np\n",
    "import seaborn as sns\n",
    "import matplotlib.pyplot as plt\n",
    "import warnings\n",
    "\n",
    "warnings.filterwarnings(\"ignore\")\n",
    "%matplotlib inline\n",
    "\n",
    "pd.set_option(\"display.max_columns\",500)"
   ]
  },
  {
   "cell_type": "code",
   "execution_count": 2,
   "id": "0c42308d",
   "metadata": {},
   "outputs": [
    {
     "data": {
      "text/html": [
       "<div>\n",
       "<style scoped>\n",
       "    .dataframe tbody tr th:only-of-type {\n",
       "        vertical-align: middle;\n",
       "    }\n",
       "\n",
       "    .dataframe tbody tr th {\n",
       "        vertical-align: top;\n",
       "    }\n",
       "\n",
       "    .dataframe thead th {\n",
       "        text-align: right;\n",
       "    }\n",
       "</style>\n",
       "<table border=\"1\" class=\"dataframe\">\n",
       "  <thead>\n",
       "    <tr style=\"text-align: right;\">\n",
       "      <th></th>\n",
       "      <th>day</th>\n",
       "      <th>month</th>\n",
       "      <th>year</th>\n",
       "      <th>Temperature</th>\n",
       "      <th>RH</th>\n",
       "      <th>Ws</th>\n",
       "      <th>Rain</th>\n",
       "      <th>FFMC</th>\n",
       "      <th>DMC</th>\n",
       "      <th>DC</th>\n",
       "      <th>ISI</th>\n",
       "      <th>BUI</th>\n",
       "      <th>FWI</th>\n",
       "      <th>Classes</th>\n",
       "    </tr>\n",
       "  </thead>\n",
       "  <tbody>\n",
       "    <tr>\n",
       "      <th>121</th>\n",
       "      <td>30</td>\n",
       "      <td>09</td>\n",
       "      <td>2012</td>\n",
       "      <td>25</td>\n",
       "      <td>78</td>\n",
       "      <td>14</td>\n",
       "      <td>1.4</td>\n",
       "      <td>45</td>\n",
       "      <td>1.9</td>\n",
       "      <td>7.5</td>\n",
       "      <td>0.2</td>\n",
       "      <td>2.4</td>\n",
       "      <td>0.1</td>\n",
       "      <td>not fire</td>\n",
       "    </tr>\n",
       "    <tr>\n",
       "      <th>122</th>\n",
       "      <td>Sidi-Bel Abbes Region Dataset</td>\n",
       "      <td>NaN</td>\n",
       "      <td>NaN</td>\n",
       "      <td>NaN</td>\n",
       "      <td>NaN</td>\n",
       "      <td>NaN</td>\n",
       "      <td>NaN</td>\n",
       "      <td>NaN</td>\n",
       "      <td>NaN</td>\n",
       "      <td>NaN</td>\n",
       "      <td>NaN</td>\n",
       "      <td>NaN</td>\n",
       "      <td>NaN</td>\n",
       "      <td>NaN</td>\n",
       "    </tr>\n",
       "    <tr>\n",
       "      <th>123</th>\n",
       "      <td>day</td>\n",
       "      <td>month</td>\n",
       "      <td>year</td>\n",
       "      <td>Temperature</td>\n",
       "      <td>RH</td>\n",
       "      <td>Ws</td>\n",
       "      <td>Rain</td>\n",
       "      <td>FFMC</td>\n",
       "      <td>DMC</td>\n",
       "      <td>DC</td>\n",
       "      <td>ISI</td>\n",
       "      <td>BUI</td>\n",
       "      <td>FWI</td>\n",
       "      <td>Classes</td>\n",
       "    </tr>\n",
       "  </tbody>\n",
       "</table>\n",
       "</div>"
      ],
      "text/plain": [
       "                               day  month  year  Temperature   RH   Ws  Rain   \\\n",
       "121                             30     09  2012           25   78   14    1.4   \n",
       "122  Sidi-Bel Abbes Region Dataset    NaN   NaN          NaN  NaN  NaN    NaN   \n",
       "123                            day  month  year  Temperature   RH   Ws  Rain    \n",
       "\n",
       "     FFMC  DMC   DC  ISI  BUI  FWI    Classes    \n",
       "121    45  1.9  7.5  0.2  2.4  0.1  not fire     \n",
       "122   NaN  NaN  NaN  NaN  NaN  NaN          NaN  \n",
       "123  FFMC  DMC   DC  ISI  BUI  FWI    Classes    "
      ]
     },
     "execution_count": 2,
     "metadata": {},
     "output_type": "execute_result"
    }
   ],
   "source": [
    "# Reading the dataset\n",
    "df= pd.read_csv(\"Algerian_forest_fires_dataset_UPDATE.csv\", header=1)\n",
    "df.iloc[121:].head(3)"
   ]
  },
  {
   "cell_type": "code",
   "execution_count": 3,
   "id": "27f5ab27",
   "metadata": {},
   "outputs": [
    {
     "data": {
      "text/html": [
       "<div>\n",
       "<style scoped>\n",
       "    .dataframe tbody tr th:only-of-type {\n",
       "        vertical-align: middle;\n",
       "    }\n",
       "\n",
       "    .dataframe tbody tr th {\n",
       "        vertical-align: top;\n",
       "    }\n",
       "\n",
       "    .dataframe thead th {\n",
       "        text-align: right;\n",
       "    }\n",
       "</style>\n",
       "<table border=\"1\" class=\"dataframe\">\n",
       "  <thead>\n",
       "    <tr style=\"text-align: right;\">\n",
       "      <th></th>\n",
       "      <th>day</th>\n",
       "      <th>month</th>\n",
       "      <th>year</th>\n",
       "      <th>Temperature</th>\n",
       "      <th>RH</th>\n",
       "      <th>Ws</th>\n",
       "      <th>Rain</th>\n",
       "      <th>FFMC</th>\n",
       "      <th>DMC</th>\n",
       "      <th>DC</th>\n",
       "      <th>ISI</th>\n",
       "      <th>BUI</th>\n",
       "      <th>FWI</th>\n",
       "      <th>Classes</th>\n",
       "    </tr>\n",
       "  </thead>\n",
       "  <tbody>\n",
       "    <tr>\n",
       "      <th>121</th>\n",
       "      <td>30</td>\n",
       "      <td>09</td>\n",
       "      <td>2012</td>\n",
       "      <td>25</td>\n",
       "      <td>78</td>\n",
       "      <td>14</td>\n",
       "      <td>1.4</td>\n",
       "      <td>45</td>\n",
       "      <td>1.9</td>\n",
       "      <td>7.5</td>\n",
       "      <td>0.2</td>\n",
       "      <td>2.4</td>\n",
       "      <td>0.1</td>\n",
       "      <td>not fire</td>\n",
       "    </tr>\n",
       "    <tr>\n",
       "      <th>122</th>\n",
       "      <td>01</td>\n",
       "      <td>06</td>\n",
       "      <td>2012</td>\n",
       "      <td>32</td>\n",
       "      <td>71</td>\n",
       "      <td>12</td>\n",
       "      <td>0.7</td>\n",
       "      <td>57.1</td>\n",
       "      <td>2.5</td>\n",
       "      <td>8.2</td>\n",
       "      <td>0.6</td>\n",
       "      <td>2.8</td>\n",
       "      <td>0.2</td>\n",
       "      <td>not fire</td>\n",
       "    </tr>\n",
       "    <tr>\n",
       "      <th>123</th>\n",
       "      <td>02</td>\n",
       "      <td>06</td>\n",
       "      <td>2012</td>\n",
       "      <td>30</td>\n",
       "      <td>73</td>\n",
       "      <td>13</td>\n",
       "      <td>4</td>\n",
       "      <td>55.7</td>\n",
       "      <td>2.7</td>\n",
       "      <td>7.8</td>\n",
       "      <td>0.6</td>\n",
       "      <td>2.9</td>\n",
       "      <td>0.2</td>\n",
       "      <td>not fire</td>\n",
       "    </tr>\n",
       "    <tr>\n",
       "      <th>124</th>\n",
       "      <td>03</td>\n",
       "      <td>06</td>\n",
       "      <td>2012</td>\n",
       "      <td>29</td>\n",
       "      <td>80</td>\n",
       "      <td>14</td>\n",
       "      <td>2</td>\n",
       "      <td>48.7</td>\n",
       "      <td>2.2</td>\n",
       "      <td>7.6</td>\n",
       "      <td>0.3</td>\n",
       "      <td>2.6</td>\n",
       "      <td>0.1</td>\n",
       "      <td>not fire</td>\n",
       "    </tr>\n",
       "    <tr>\n",
       "      <th>125</th>\n",
       "      <td>04</td>\n",
       "      <td>06</td>\n",
       "      <td>2012</td>\n",
       "      <td>30</td>\n",
       "      <td>64</td>\n",
       "      <td>14</td>\n",
       "      <td>0</td>\n",
       "      <td>79.4</td>\n",
       "      <td>5.2</td>\n",
       "      <td>15.4</td>\n",
       "      <td>2.2</td>\n",
       "      <td>5.6</td>\n",
       "      <td>1</td>\n",
       "      <td>not fire</td>\n",
       "    </tr>\n",
       "  </tbody>\n",
       "</table>\n",
       "</div>"
      ],
      "text/plain": [
       "    day month  year Temperature  RH  Ws Rain   FFMC  DMC    DC  ISI  BUI  FWI  \\\n",
       "121  30    09  2012          25  78  14   1.4    45  1.9   7.5  0.2  2.4  0.1   \n",
       "122  01    06  2012          32  71  12   0.7  57.1  2.5   8.2  0.6  2.8  0.2   \n",
       "123  02    06  2012          30  73  13     4  55.7  2.7   7.8  0.6  2.9  0.2   \n",
       "124  03    06  2012          29  80  14     2  48.7  2.2   7.6  0.3  2.6  0.1   \n",
       "125  04    06  2012          30  64  14     0  79.4  5.2  15.4  2.2  5.6    1   \n",
       "\n",
       "       Classes    \n",
       "121  not fire     \n",
       "122  not fire     \n",
       "123  not fire     \n",
       "124  not fire     \n",
       "125  not fire     "
      ]
     },
     "execution_count": 3,
     "metadata": {},
     "output_type": "execute_result"
    }
   ],
   "source": [
    "#Droping the row which don't have any information and the header of SIDI-BEL ABBES REGION DATASET\n",
    "\n",
    "df.drop(index=[122,123], inplace=True)\n",
    "df.reset_index(inplace= True)\n",
    "df.drop(\"index\", axis=1, inplace= True)\n",
    "\n",
    "df.iloc[121:].head()"
   ]
  },
  {
   "cell_type": "code",
   "execution_count": 4,
   "id": "1f21e4a6",
   "metadata": {},
   "outputs": [
    {
     "data": {
      "text/html": [
       "<div>\n",
       "<style scoped>\n",
       "    .dataframe tbody tr th:only-of-type {\n",
       "        vertical-align: middle;\n",
       "    }\n",
       "\n",
       "    .dataframe tbody tr th {\n",
       "        vertical-align: top;\n",
       "    }\n",
       "\n",
       "    .dataframe thead th {\n",
       "        text-align: right;\n",
       "    }\n",
       "</style>\n",
       "<table border=\"1\" class=\"dataframe\">\n",
       "  <thead>\n",
       "    <tr style=\"text-align: right;\">\n",
       "      <th></th>\n",
       "      <th>day</th>\n",
       "      <th>month</th>\n",
       "      <th>year</th>\n",
       "      <th>Temperature</th>\n",
       "      <th>RH</th>\n",
       "      <th>Ws</th>\n",
       "      <th>Rain</th>\n",
       "      <th>FFMC</th>\n",
       "      <th>DMC</th>\n",
       "      <th>DC</th>\n",
       "      <th>ISI</th>\n",
       "      <th>BUI</th>\n",
       "      <th>FWI</th>\n",
       "      <th>Classes</th>\n",
       "      <th>Region</th>\n",
       "    </tr>\n",
       "  </thead>\n",
       "  <tbody>\n",
       "    <tr>\n",
       "      <th>163</th>\n",
       "      <td>12</td>\n",
       "      <td>07</td>\n",
       "      <td>2012</td>\n",
       "      <td>36</td>\n",
       "      <td>44</td>\n",
       "      <td>13</td>\n",
       "      <td>0</td>\n",
       "      <td>90.1</td>\n",
       "      <td>12.6</td>\n",
       "      <td>19.4</td>\n",
       "      <td>8.3</td>\n",
       "      <td>12.5</td>\n",
       "      <td>9.6</td>\n",
       "      <td>fire</td>\n",
       "      <td>1.0</td>\n",
       "    </tr>\n",
       "    <tr>\n",
       "      <th>164</th>\n",
       "      <td>13</td>\n",
       "      <td>07</td>\n",
       "      <td>2012</td>\n",
       "      <td>39</td>\n",
       "      <td>45</td>\n",
       "      <td>13</td>\n",
       "      <td>0.6</td>\n",
       "      <td>85.2</td>\n",
       "      <td>11.3</td>\n",
       "      <td>10.4</td>\n",
       "      <td>4.2</td>\n",
       "      <td>10.9</td>\n",
       "      <td>4.7</td>\n",
       "      <td>fire</td>\n",
       "      <td>1.0</td>\n",
       "    </tr>\n",
       "    <tr>\n",
       "      <th>165</th>\n",
       "      <td>14</td>\n",
       "      <td>07</td>\n",
       "      <td>2012</td>\n",
       "      <td>37</td>\n",
       "      <td>37</td>\n",
       "      <td>18</td>\n",
       "      <td>0.2</td>\n",
       "      <td>88.9</td>\n",
       "      <td>12.9</td>\n",
       "      <td>14.6 9</td>\n",
       "      <td>12.5</td>\n",
       "      <td>10.4</td>\n",
       "      <td>fire</td>\n",
       "      <td>NaN</td>\n",
       "      <td>1.0</td>\n",
       "    </tr>\n",
       "    <tr>\n",
       "      <th>166</th>\n",
       "      <td>15</td>\n",
       "      <td>07</td>\n",
       "      <td>2012</td>\n",
       "      <td>34</td>\n",
       "      <td>45</td>\n",
       "      <td>17</td>\n",
       "      <td>0</td>\n",
       "      <td>90.5</td>\n",
       "      <td>18</td>\n",
       "      <td>24.1</td>\n",
       "      <td>10.9</td>\n",
       "      <td>17.7</td>\n",
       "      <td>14.1</td>\n",
       "      <td>fire</td>\n",
       "      <td>1.0</td>\n",
       "    </tr>\n",
       "    <tr>\n",
       "      <th>167</th>\n",
       "      <td>16</td>\n",
       "      <td>07</td>\n",
       "      <td>2012</td>\n",
       "      <td>31</td>\n",
       "      <td>83</td>\n",
       "      <td>17</td>\n",
       "      <td>0</td>\n",
       "      <td>84.5</td>\n",
       "      <td>19.4</td>\n",
       "      <td>33.1</td>\n",
       "      <td>4.7</td>\n",
       "      <td>19.2</td>\n",
       "      <td>7.3</td>\n",
       "      <td>fire</td>\n",
       "      <td>1.0</td>\n",
       "    </tr>\n",
       "  </tbody>\n",
       "</table>\n",
       "</div>"
      ],
      "text/plain": [
       "    day month  year Temperature  RH  Ws Rain   FFMC   DMC      DC   ISI   BUI  \\\n",
       "163  12    07  2012          36  44  13     0  90.1  12.6    19.4   8.3  12.5   \n",
       "164  13    07  2012          39  45  13   0.6  85.2  11.3    10.4   4.2  10.9   \n",
       "165  14    07  2012          37  37  18   0.2  88.9  12.9  14.6 9  12.5  10.4   \n",
       "166  15    07  2012          34  45  17     0  90.5    18    24.1  10.9  17.7   \n",
       "167  16    07  2012          31  83  17     0  84.5  19.4    33.1   4.7  19.2   \n",
       "\n",
       "         FWI Classes    Region  \n",
       "163      9.6   fire        1.0  \n",
       "164      4.7   fire        1.0  \n",
       "165  fire          NaN     1.0  \n",
       "166     14.1   fire        1.0  \n",
       "167      7.3   fire        1.0  "
      ]
     },
     "execution_count": 4,
     "metadata": {},
     "output_type": "execute_result"
    }
   ],
   "source": [
    "# Creating a Region Column and adding 0 for Bejaia region and 1 for Sidi Bel-abbes region\n",
    "df.loc[:122, 'Region']=0\n",
    "df.loc[122:, 'Region']=1\n",
    "df.iloc[163:].head(5)"
   ]
  },
  {
   "cell_type": "code",
   "execution_count": 5,
   "id": "49210bb9",
   "metadata": {},
   "outputs": [
    {
     "name": "stdout",
     "output_type": "stream",
     "text": [
      "<class 'pandas.core.frame.DataFrame'>\n",
      "RangeIndex: 244 entries, 0 to 243\n",
      "Data columns (total 15 columns):\n",
      " #   Column       Non-Null Count  Dtype  \n",
      "---  ------       --------------  -----  \n",
      " 0   day          244 non-null    object \n",
      " 1   month        244 non-null    object \n",
      " 2   year         244 non-null    object \n",
      " 3   Temperature  244 non-null    object \n",
      " 4    RH          244 non-null    object \n",
      " 5    Ws          244 non-null    object \n",
      " 6   Rain         244 non-null    object \n",
      " 7   FFMC         244 non-null    object \n",
      " 8   DMC          244 non-null    object \n",
      " 9   DC           244 non-null    object \n",
      " 10  ISI          244 non-null    object \n",
      " 11  BUI          244 non-null    object \n",
      " 12  FWI          244 non-null    object \n",
      " 13  Classes      243 non-null    object \n",
      " 14  Region       244 non-null    float64\n",
      "dtypes: float64(1), object(14)\n",
      "memory usage: 28.7+ KB\n"
     ]
    }
   ],
   "source": [
    "#Extracting the information of dataset\n",
    "\n",
    "df.info()"
   ]
  },
  {
   "cell_type": "markdown",
   "id": "26dbe6a2",
   "metadata": {},
   "source": [
    "Observation: By looking info, every columns datatype is object."
   ]
  },
  {
   "cell_type": "code",
   "execution_count": 6,
   "id": "c54deb78",
   "metadata": {},
   "outputs": [
    {
     "data": {
      "text/plain": [
       "Index(['day', 'month', 'year', 'Temperature', ' RH', ' Ws', 'Rain ', 'FFMC',\n",
       "       'DMC', 'DC', 'ISI', 'BUI', 'FWI', 'Classes  ', 'Region'],\n",
       "      dtype='object')"
      ]
     },
     "execution_count": 6,
     "metadata": {},
     "output_type": "execute_result"
    }
   ],
   "source": [
    "# Lets see the columns name\n",
    "df.columns"
   ]
  },
  {
   "cell_type": "code",
   "execution_count": 7,
   "id": "b2269da0",
   "metadata": {},
   "outputs": [
    {
     "data": {
      "text/plain": [
       "Index(['day', 'month', 'year', 'Temperature', 'RH', 'Ws', 'Rain', 'FFMC',\n",
       "       'DMC', 'DC', 'ISI', 'BUI', 'FWI', 'Classes', 'Region'],\n",
       "      dtype='object')"
      ]
     },
     "execution_count": 7,
     "metadata": {},
     "output_type": "execute_result"
    }
   ],
   "source": [
    "#In column names, some names are having unnecessary space, ie in 'RH', 'WS', lets strip the spaces\n",
    "df.columns=[col_name.strip() for col_name in df.columns]\n",
    "df.columns"
   ]
  },
  {
   "cell_type": "code",
   "execution_count": 8,
   "id": "d0b48920",
   "metadata": {},
   "outputs": [],
   "source": [
    "#Converting all the features to string for data claening.\n",
    "df=df.astype('str')"
   ]
  },
  {
   "cell_type": "code",
   "execution_count": 9,
   "id": "ab386194",
   "metadata": {},
   "outputs": [],
   "source": [
    "# in some columns, features are having space lets remove those space\n",
    "for feature in ['day', 'month', 'year', 'Temperature', 'RH', 'Ws', 'Rain', 'FFMC',\n",
    "       'DMC', 'DC', 'ISI', 'BUI', 'FWI', 'Classes', 'Region']:\n",
    "    df[feature]=df[feature].str.replace(\" \",\"\")"
   ]
  },
  {
   "cell_type": "code",
   "execution_count": 10,
   "id": "9c94acbd",
   "metadata": {},
   "outputs": [
    {
     "name": "stdout",
     "output_type": "stream",
     "text": [
      "<class 'pandas.core.frame.DataFrame'>\n",
      "RangeIndex: 244 entries, 0 to 243\n",
      "Data columns (total 15 columns):\n",
      " #   Column       Non-Null Count  Dtype \n",
      "---  ------       --------------  ----- \n",
      " 0   day          244 non-null    object\n",
      " 1   month        244 non-null    object\n",
      " 2   year         244 non-null    object\n",
      " 3   Temperature  244 non-null    object\n",
      " 4   RH           244 non-null    object\n",
      " 5   Ws           244 non-null    object\n",
      " 6   Rain         244 non-null    object\n",
      " 7   FFMC         244 non-null    object\n",
      " 8   DMC          244 non-null    object\n",
      " 9   DC           244 non-null    object\n",
      " 10  ISI          244 non-null    object\n",
      " 11  BUI          244 non-null    object\n",
      " 12  FWI          244 non-null    object\n",
      " 13  Classes      244 non-null    object\n",
      " 14  Region       244 non-null    object\n",
      "dtypes: object(15)\n",
      "memory usage: 28.7+ KB\n"
     ]
    }
   ],
   "source": [
    "df.info()"
   ]
  },
  {
   "cell_type": "code",
   "execution_count": 11,
   "id": "7bf8d2e4",
   "metadata": {},
   "outputs": [
    {
     "data": {
      "text/html": [
       "<div>\n",
       "<style scoped>\n",
       "    .dataframe tbody tr th:only-of-type {\n",
       "        vertical-align: middle;\n",
       "    }\n",
       "\n",
       "    .dataframe tbody tr th {\n",
       "        vertical-align: top;\n",
       "    }\n",
       "\n",
       "    .dataframe thead th {\n",
       "        text-align: right;\n",
       "    }\n",
       "</style>\n",
       "<table border=\"1\" class=\"dataframe\">\n",
       "  <thead>\n",
       "    <tr style=\"text-align: right;\">\n",
       "      <th></th>\n",
       "      <th>day</th>\n",
       "      <th>month</th>\n",
       "      <th>year</th>\n",
       "      <th>Temperature</th>\n",
       "      <th>RH</th>\n",
       "      <th>Ws</th>\n",
       "      <th>Rain</th>\n",
       "      <th>FFMC</th>\n",
       "      <th>DMC</th>\n",
       "      <th>DC</th>\n",
       "      <th>ISI</th>\n",
       "      <th>BUI</th>\n",
       "      <th>FWI</th>\n",
       "      <th>Classes</th>\n",
       "      <th>Region</th>\n",
       "    </tr>\n",
       "  </thead>\n",
       "  <tbody>\n",
       "    <tr>\n",
       "      <th>count</th>\n",
       "      <td>244</td>\n",
       "      <td>244</td>\n",
       "      <td>244</td>\n",
       "      <td>244</td>\n",
       "      <td>244</td>\n",
       "      <td>244</td>\n",
       "      <td>244</td>\n",
       "      <td>244</td>\n",
       "      <td>244</td>\n",
       "      <td>244</td>\n",
       "      <td>244</td>\n",
       "      <td>244</td>\n",
       "      <td>244</td>\n",
       "      <td>244</td>\n",
       "      <td>244</td>\n",
       "    </tr>\n",
       "    <tr>\n",
       "      <th>unique</th>\n",
       "      <td>31</td>\n",
       "      <td>4</td>\n",
       "      <td>1</td>\n",
       "      <td>19</td>\n",
       "      <td>62</td>\n",
       "      <td>18</td>\n",
       "      <td>39</td>\n",
       "      <td>173</td>\n",
       "      <td>166</td>\n",
       "      <td>198</td>\n",
       "      <td>106</td>\n",
       "      <td>174</td>\n",
       "      <td>126</td>\n",
       "      <td>3</td>\n",
       "      <td>2</td>\n",
       "    </tr>\n",
       "    <tr>\n",
       "      <th>top</th>\n",
       "      <td>01</td>\n",
       "      <td>07</td>\n",
       "      <td>2012</td>\n",
       "      <td>35</td>\n",
       "      <td>64</td>\n",
       "      <td>14</td>\n",
       "      <td>0</td>\n",
       "      <td>88.9</td>\n",
       "      <td>7.9</td>\n",
       "      <td>8</td>\n",
       "      <td>1.1</td>\n",
       "      <td>3</td>\n",
       "      <td>0.4</td>\n",
       "      <td>fire</td>\n",
       "      <td>0.0</td>\n",
       "    </tr>\n",
       "    <tr>\n",
       "      <th>freq</th>\n",
       "      <td>8</td>\n",
       "      <td>62</td>\n",
       "      <td>244</td>\n",
       "      <td>29</td>\n",
       "      <td>10</td>\n",
       "      <td>43</td>\n",
       "      <td>133</td>\n",
       "      <td>8</td>\n",
       "      <td>5</td>\n",
       "      <td>5</td>\n",
       "      <td>8</td>\n",
       "      <td>5</td>\n",
       "      <td>12</td>\n",
       "      <td>137</td>\n",
       "      <td>122</td>\n",
       "    </tr>\n",
       "  </tbody>\n",
       "</table>\n",
       "</div>"
      ],
      "text/plain": [
       "        day month  year Temperature   RH   Ws Rain  FFMC  DMC   DC  ISI  BUI  \\\n",
       "count   244   244   244         244  244  244  244   244  244  244  244  244   \n",
       "unique   31     4     1          19   62   18   39   173  166  198  106  174   \n",
       "top      01    07  2012          35   64   14    0  88.9  7.9    8  1.1    3   \n",
       "freq      8    62   244          29   10   43  133     8    5    5    8    5   \n",
       "\n",
       "        FWI Classes Region  \n",
       "count   244     244    244  \n",
       "unique  126       3      2  \n",
       "top     0.4    fire    0.0  \n",
       "freq     12     137    122  "
      ]
     },
     "execution_count": 11,
     "metadata": {},
     "output_type": "execute_result"
    }
   ],
   "source": [
    "df.describe()"
   ]
  },
  {
   "cell_type": "markdown",
   "id": "1f70de03",
   "metadata": {},
   "source": [
    "Information about the dataset\n",
    "1. Data include 244 instance from both the region that are Bejaia region and Sidi Bel-abbes region\n",
    "2. Two regions are having 122 each instances.\n",
    "3. Dataset contain 11 attributes and 1 output column that is Classes.\n",
    "4. The data is from the month June 2012 to Sept 2012\n",
    "\n",
    "\n",
    "Attritube information.\n",
    "1. Date: Day, Month and Year which is from June to September 2012\n",
    "2. Temperature: Contains the Temperature value from 22 deg C to 42 deg C\n",
    "3. RH(Relative Humidity): 21% to 90%\n",
    "4. WS(Wind Speed): 6 to 29 KMPH\n",
    "5. Rain : 0 to 16.8 Cms\n",
    "6. Fine Fuel Moisture Code (FFMC) index from the FWI system: 28.6 to 92.5\n",
    "7. Duff Moisture Code (DMC) index from the FWI system: 1.1 to 65.9\n",
    "8. Drought Code (DC) index from the FWI system: 7 to 220.4\n",
    "9. Initial Spread Index (ISI) index from the FWI system: 0 to 18.5\n",
    "10. Buildup Index (BUI) index from the FWI system: 1.1 to 68\n",
    "11. Fire Weather Index (FWI) Index: 0 to 31.1\n",
    "12. Classes: two classes, namely fire and not fire"
   ]
  },
  {
   "cell_type": "code",
   "execution_count": 12,
   "id": "7cec5b5d",
   "metadata": {},
   "outputs": [
    {
     "name": "stdout",
     "output_type": "stream",
     "text": [
      "['01' '02' '03' '04' '05' '06' '07' '08' '09' '10' '11' '12' '13' '14'\n",
      " '15' '16' '17' '18' '19' '20' '21' '22' '23' '24' '25' '26' '27' '28'\n",
      " '29' '30' '31']\n",
      "['06' '07' '08' '09']\n",
      "['2012']\n",
      "['29' '26' '25' '27' '31' '33' '30' '28' '32' '34' '35' '36' '37' '22'\n",
      " '24' '38' '39' '40' '42']\n",
      "['57' '61' '82' '89' '77' '67' '54' '73' '88' '79' '65' '81' '84' '78'\n",
      " '80' '55' '62' '66' '64' '53' '47' '50' '68' '75' '76' '63' '69' '70'\n",
      " '59' '48' '45' '60' '51' '52' '58' '86' '74' '71' '49' '44' '41' '42'\n",
      " '90' '87' '72' '46' '37' '36' '56' '43' '83' '29' '34' '33' '35' '39'\n",
      " '31' '21' '40' '24' '38' '26']\n",
      "['18' '13' '22' '16' '14' '15' '12' '19' '21' '20' '17' '26' '11' '10' '9'\n",
      " '8' '6' '29']\n",
      "['0' '1.3' '13.1' '2.5' '0.2' '1.2' '0.5' '3.1' '0.7' '0.6' '0.3' '0.1'\n",
      " '0.4' '1' '1.4' '0.8' '16.8' '7.2' '10.1' '3.8' '0.9' '1.8' '4.6' '8.3'\n",
      " '5.8' '4' '2' '4.7' '8.7' '4.5' '1.1' '1.7' '2.2' '6' '1.9' '2.9' '4.1'\n",
      " '6.5' '4.4']\n",
      "['65.7' '64.4' '47.1' '28.6' '64.8' '82.6' '88.2' '86.6' '52.9' '73.2'\n",
      " '84.5' '84' '50' '59' '49.4' '36.1' '37.3' '56.9' '79.9' '59.8' '81'\n",
      " '79.1' '81.4' '85.9' '86.7' '86.8' '89' '89.1' '88.7' '59.9' '55.7'\n",
      " '63.1' '80.1' '87' '80' '85.6' '66.6' '81.1' '75.1' '81.8' '73.9' '60.7'\n",
      " '72.6' '82.8' '85.4' '88.1' '73.4' '68.2' '70' '84.3' '89.2' '90.3'\n",
      " '86.5' '87.2' '78.8' '78' '76.6' '85' '86.4' '77.1' '87.4' '88.9' '81.3'\n",
      " '82.4' '80.2' '89.3' '89.4' '88.3' '88.6' '89.5' '85.8' '84.9' '90.1'\n",
      " '72.7' '52.5' '46' '30.5' '42.6' '68.4' '80.8' '75.8' '69.6' '62' '56.1'\n",
      " '58.5' '71' '40.9' '47.4' '44.9' '78.1' '87.7' '83.8' '87.8' '77.8'\n",
      " '73.7' '68.3' '48.6' '82' '85.7' '77.5' '45' '57.1' '48.7' '79.4' '83.7'\n",
      " '71.4' '90.6' '72.3' '53.4' '66.8' '62.2' '65.5' '64.6' '60.2' '86.2'\n",
      " '78.3' '74.2' '85.3' '86' '92.5' '79.7' '63.7' '87.6' '84.7' '88' '90.5'\n",
      " '82.3' '74.8' '85.2' '84.6' '86.1' '89.9' '93.9' '91.5' '87.3' '72.8'\n",
      " '73.8' '87.5' '93.3' '93.7' '93.8' '70.5' '69.7' '91.7' '94.2' '93'\n",
      " '91.9' '83.9' '92' '96' '94.3' '82.7' '91.2' '92.1' '92.2' '91' '79.2'\n",
      " '37.9' '75.4' '82.2' '73.5' '66.1' '64.5' '83.3' '82.5' '83.1' '59.5'\n",
      " '84.2' '79.5' '61.3' '41.1' '45.9' '67.3']\n",
      "['3.4' '4.1' '2.5' '1.3' '3' '5.8' '9.9' '12.1' '7.9' '9.5' '12.5' '13.8'\n",
      " '6.7' '4.6' '1.7' '1.1' '1.9' '4.5' '6.3' '7' '8.2' '11.2' '14.2' '17.8'\n",
      " '21.6' '25.5' '18.4' '22.9' '2.4' '2.6' '7.6' '10.9' '9.7' '7.7' '6'\n",
      " '8.1' '7.8' '5.2' '9.4' '12' '12.3' '18.5' '16.4' '10.5' '9.6' '17.1'\n",
      " '22.2' '24.4' '26.7' '28.5' '31.9' '4.8' '5.7' '11.1' '13' '15.5' '11.3'\n",
      " '14.8' '18.6' '21.7' '15.6' '19' '11.7' '16' '20' '23.2' '25.9' '29.6'\n",
      " '33.5' '37.6' '40.5' '43.9' '45.6' '47' '50.2' '54.2' '25.2' '8.7' '0.7'\n",
      " '1.2' '3.6' '3.2' '2.1' '2.2' '0.9' '6.4' '9.8' '13.5' '16.5' '10.6'\n",
      " '5.5' '8.3' '7.1' '2.9' '2.7' '8.4' '8.5' '13.3' '18.2' '21.3' '11.4'\n",
      " '7.2' '4.2' '3.9' '4.4' '3.8' '10' '12.8' '20.9' '27.2' '17.9' '13.6'\n",
      " '18.7' '8' '12.6' '12.9' '18' '19.4' '21.1' '23.9' '27.8' '32.7' '39.6'\n",
      " '44.2' '46.6' '10.8' '11.8' '15.7' '19.5' '23.8' '28.3' '23' '23.6' '11'\n",
      " '15.8' '22.5' '16.9' '22.3' '22.6' '30.3' '35.9' '34.4' '36.9' '41.1'\n",
      " '46.1' '51.3' '56.3' '61.3' '65.9' '37' '20.7' '24.8' '4' '3.3' '6.6'\n",
      " '4.7' '6.5' '11.5' '21.2' '25.8' '24.9' '26.1' '29.4' '11.9' '3.5' '4.3']\n",
      "['7.6' '7.1' '6.9' '14.2' '22.2' '30.5' '38.3' '38.8' '46.3' '54.3' '61.4'\n",
      " '17' '7.8' '7.4' '8' '16' '27.1' '31.6' '39.5' '47.7' '55.8' '63.8'\n",
      " '71.8' '80.3' '88.5' '84.4' '92.8' '8.6' '8.3' '9.2' '18.5' '27.9' '37'\n",
      " '40.4' '49.8' '9.3' '18.7' '27.7' '37.2' '22.9' '25.5' '34.1' '43.1'\n",
      " '52.8' '62.1' '71.5' '79.9' '71.3' '79.7' '88.7' '98.6' '108.5' '117.8'\n",
      " '127' '136' '145.7' '10.2' '10' '19.8' '29.7' '39.1' '48.6' '47' '57'\n",
      " '67' '77' '75.1' '85.1' '94.7' '92.5' '90.4' '100.7' '110.9' '120.9'\n",
      " '130.6' '141.1' '151.3' '161.5' '171.3' '181.3' '190.6' '200.2' '210.4'\n",
      " '220.4' '180.4' '8.7' '7.5' '7' '15.7' '24' '32.2' '30.1' '8.4' '8.9'\n",
      " '16.6' '7.3' '24.3' '33.1' '41.3' '49.3' '57.9' '41.4' '30.4' '15.2'\n",
      " '7.7' '16.3' '24.9' '8.8' '8.2' '15.4' '17.6' '26.3' '28.9' '14.7' '22.5'\n",
      " '37.8' '18.4' '25.6' '34.5' '43.3' '52.4' '36.7' '8.5' '17.8' '27.3'\n",
      " '36.8' '46.4' '45.1' '35.4' '9.7' '9.9' '9.5' '19.4' '10.4' '14.69'\n",
      " '24.1' '42.3' '51.6' '61.1' '71' '80.6' '90.1' '99' '56.6' '15.9' '19.7'\n",
      " '28.3' '37.6' '47.2' '57.1' '67.2' '10.5' '21.4' '32.1' '42.7' '52.5'\n",
      " '9.1' '9.8' '20.2' '30.9' '41.5' '55.5' '54.2' '65.1' '76.4' '86.8'\n",
      " '96.8' '107' '117.1' '127.5' '137.7' '147.7' '157.5' '167.2' '177.3'\n",
      " '166' '149.2' '159.1' '168.2' '26.6' '17.7' '26.1' '25.2' '33.4' '50.2'\n",
      " '59.2' '63.3' '77.8' '86' '88' '97.3' '106.3' '115.6' '28.1' '36.1'\n",
      " '44.5' '7.9' '16.5']\n",
      "['1.3' '1' '0.3' '0' '1.2' '3.1' '6.4' '5.6' '0.4' '4' '4.8' '0.5' '0.7'\n",
      " '2.5' '0.9' '2.6' '2.4' '3.3' '5.7' '6.7' '9.2' '7.6' '2.2' '7.2' '1.1'\n",
      " '0.8' '2.7' '2.8' '6' '1.5' '3' '1.4' '3.2' '4.6' '7.7' '5.2' '1.8' '10'\n",
      " '8.7' '4.7' '6.8' '2' '1.7' '5.5' '6.9' '7.4' '7.1' '5.9' '3.7' '9.7'\n",
      " '8.8' '9.9' '10.4' '9' '8.2' '4.4' '7.3' '12.5' '0.6' '0.2' '0.1' '2.1'\n",
      " '1.9' '6.2' '7.8' '4.5' '5.4' '8.4' '13.4' '5' '1.6' '4.9' '7' '8' '11.7'\n",
      " '11.3' '4.3' '4.1' '8.3' '4.2' '10.9' '9.5' '18.5' '13.2' '13.8' '17.2'\n",
      " '15.7' '19' '9.6' '16.6' '15.5' '7.5' '10.8' '3.5' '16' '3.8' '5.1'\n",
      " '11.5' '12.2' '14.3' '13.1' '8.1' '9.8' '9.1' '14.2' '11.2']\n",
      "['3.4' '3.9' '2.7' '1.7' '7' '10.9' '13.5' '10.5' '12.6' '15.8' '17.7'\n",
      " '6.7' '4.4' '3' '2.2' '1.6' '2.4' '5.3' '5.1' '8.4' '9.7' '11.5' '14.9'\n",
      " '18.3' '21.6' '25.8' '29.7' '23.8' '28.3' '2.9' '2.8' '5.7' '9.1' '12.5'\n",
      " '12.1' '15.4' '7.4' '5.8' '8.1' '9.2' '11.7' '5.9' '8.3' '11.1' '14.2'\n",
      " '18.2' '16.5' '22.4' '21.7' '14.7' '18.5' '23.9' '29.4' '32.1' '35'\n",
      " '37.4' '41.2' '4.7' '5.5' '8.2' '17.2' '14.1' '17.9' '21.9' '25.5' '20.7'\n",
      " '24.4' '27.2' '22' '17.6' '22.9' '27.5' '31.3' '34.7' '38.8' '43.1'\n",
      " '47.5' '50.9' '54.7' '57.1' '59.3' '62.9' '67.4' '1.8' '1.1' '5.6' '2.6'\n",
      " '3.7' '1.4' '4.2' '7.7' '11.3' '16' '19.2' '12.9' '9.6' '6.2' '9' '6.8'\n",
      " '6.5' '9.3' '10.7' '7.3' '13.1' '18' '21.2' '6.1' '7.1' '4.1' '3.8' '9.9'\n",
      " '12.7' '16.4' '20.8' '27.1' '17.8' '3.3' '7.8' '10.3' '18.7' '16.7'\n",
      " '13.7' '9.4' '10.4' '20.9' '27.7' '32.6' '39.5' '44' '46.5' '11.4' '11.8'\n",
      " '15.7' '19.5' '10.6' '16.9' '23.5' '6.9' '11' '18.4' '17.5' '22.3' '19'\n",
      " '24.2' '30.4' '35.9' '35.5' '38.1' '41.3' '45.5' '50.2' '54.9' '59.5'\n",
      " '64' '68' '30.6' '35.7' '39.3' '4' '6' '3.5' '6.4' '10' '4.6' '6.6'\n",
      " '12.4' '14.3' '26.2' '28.2' '28.9' '32.4' '36' '11.9' '4.8']\n",
      "['0.5' '0.4' '0.1' '0' '2.5' '7.2' '7.1' '0.3' '0.9' '5.6' '0.2' '1.4'\n",
      " '2.2' '2.3' '3.8' '7.5' '8.4' '10.6' '15' '13.9' '3.9' '12.9' '1.7' '4.9'\n",
      " '6.8' '3.2' '8' '0.6' '3.4' '0.8' '3.6' '6' '10.9' '4' '8.8' '2.8' '2.1'\n",
      " '1.3' '7.3' '15.3' '11.3' '11.9' '10.7' '15.7' '6.1' '2.6' '9.9' '11.6'\n",
      " '12.1' '4.2' '10.2' '6.3' '14.6' '16.1' '17.2' '16.8' '18.4' '20.4'\n",
      " '22.3' '20.9' '20.3' '13.7' '13.2' '19.9' '30.2' '5.9' '7.7' '9.7' '8.3'\n",
      " '0.7' '4.1' '1' '3.1' '1.9' '10' '16.7' '1.2' '5.3' '6.7' '9.5' '12'\n",
      " '6.4' '5.2' '3' '9.6' '4.7' 'fire' '14.1' '9.1' '13' '17.3' '30' '25.4'\n",
      " '16.3' '9' '14.5' '13.5' '19.5' '12.6' '12.7' '21.6' '18.8' '10.5' '5.5'\n",
      " '14.8' '24' '26.3' '12.2' '18.1' '24.5' '26.9' '31.1' '30.3' '26.1' '16'\n",
      " '19.4' '2.7' '3.7' '10.3' '5.7' '9.8' '19.3' '17.5' '15.4' '15.2' '6.5']\n",
      "['notfire' 'fire' 'nan']\n",
      "['0.0' '1.0']\n"
     ]
    }
   ],
   "source": [
    "for features in df.columns:\n",
    "    print(df[features].unique())"
   ]
  },
  {
   "cell_type": "code",
   "execution_count": 13,
   "id": "191ca76e",
   "metadata": {},
   "outputs": [
    {
     "data": {
      "text/plain": [
       "Int64Index([165], dtype='int64')"
      ]
     },
     "execution_count": 13,
     "metadata": {},
     "output_type": "execute_result"
    }
   ],
   "source": [
    "df[df['FWI']=='fire'].index # finding the index in FWI which is having fire in the column"
   ]
  },
  {
   "cell_type": "code",
   "execution_count": 14,
   "id": "910e856e",
   "metadata": {},
   "outputs": [],
   "source": [
    "df.loc[165,'FWI']= '0.1' #Replacing the fire value with Floating number"
   ]
  },
  {
   "cell_type": "code",
   "execution_count": 15,
   "id": "7b62879a",
   "metadata": {},
   "outputs": [
    {
     "data": {
      "text/plain": [
       "Int64Index([165], dtype='int64')"
      ]
     },
     "execution_count": 15,
     "metadata": {},
     "output_type": "execute_result"
    }
   ],
   "source": [
    "df[df['Classes']=='nan'].index # Finidng the index in Classes which is having nan value"
   ]
  },
  {
   "cell_type": "code",
   "execution_count": 16,
   "id": "b06b1535",
   "metadata": {},
   "outputs": [],
   "source": [
    "df.loc[165,'Classes']='fire' # Repalcing the nan value with fire"
   ]
  },
  {
   "cell_type": "code",
   "execution_count": 17,
   "id": "5424cba0",
   "metadata": {},
   "outputs": [
    {
     "data": {
      "text/plain": [
       "day              int64\n",
       "month            int64\n",
       "year             int64\n",
       "Temperature      int64\n",
       "RH               int64\n",
       "Ws               int64\n",
       "Rain           float64\n",
       "FFMC           float64\n",
       "DMC            float64\n",
       "DC             float64\n",
       "ISI            float64\n",
       "BUI            float64\n",
       "FWI            float64\n",
       "Classes         object\n",
       "Region         float64\n",
       "dtype: object"
      ]
     },
     "execution_count": 17,
     "metadata": {},
     "output_type": "execute_result"
    }
   ],
   "source": [
    "#Converting the datatypes from obejcts to int and float\n",
    "\n",
    "datatype_convert={'day':'int64', 'month':'int64', 'year':'int64', 'Temperature': 'int64', 'RH':'int64', 'Ws':'int64', 'Rain':'float64', 'FFMC':'float64',\n",
    "       'DMC':'float64', 'DC':'float64', 'ISI':'float64', 'BUI':'float64', 'Region':'float64', 'FWI':'float64'}\n",
    "df=df.astype(datatype_convert)\n",
    "df.dtypes"
   ]
  },
  {
   "cell_type": "code",
   "execution_count": 18,
   "id": "0f78b8cd",
   "metadata": {},
   "outputs": [
    {
     "data": {
      "text/plain": [
       "day            0\n",
       "month          0\n",
       "year           0\n",
       "Temperature    0\n",
       "RH             0\n",
       "Ws             0\n",
       "Rain           0\n",
       "FFMC           0\n",
       "DMC            0\n",
       "DC             0\n",
       "ISI            0\n",
       "BUI            0\n",
       "FWI            0\n",
       "Classes        0\n",
       "Region         0\n",
       "dtype: int64"
      ]
     },
     "execution_count": 18,
     "metadata": {},
     "output_type": "execute_result"
    }
   ],
   "source": [
    "# Checking Null values\n",
    "df.isnull().sum()"
   ]
  },
  {
   "cell_type": "markdown",
   "id": "fdaff091",
   "metadata": {},
   "source": [
    "Observation: There is no null value present in the dataset"
   ]
  },
  {
   "cell_type": "code",
   "execution_count": 19,
   "id": "924a49d5",
   "metadata": {},
   "outputs": [
    {
     "name": "stdout",
     "output_type": "stream",
     "text": [
      "Classes  Region\n",
      "fire     1.0       79\n",
      "         0.0       59\n",
      "notfire  0.0       63\n",
      "         1.0       43\n",
      "Name: Region, dtype: int64\n"
     ]
    }
   ],
   "source": [
    "# Numerical and Categorical Features\n",
    "Cat_feature=[feature for feature in df.columns if df[feature].dtypes== 'O']\n",
    "\n",
    "# Generating the Categorical features with region \n",
    "for feature in Cat_feature:\n",
    "    print(df.groupby(feature)['Region'].value_counts())"
   ]
  },
  {
   "cell_type": "code",
   "execution_count": 20,
   "id": "42d50b31",
   "metadata": {},
   "outputs": [
    {
     "data": {
      "text/plain": [
       "<AxesSubplot:xlabel='Classes', ylabel='count'>"
      ]
     },
     "execution_count": 20,
     "metadata": {},
     "output_type": "execute_result"
    },
    {
     "data": {
      "image/png": "[encoded data removed]",
      "text/plain": [
       "<Figure size 432x288 with 1 Axes>"
      ]
     },
     "metadata": {
      "needs_background": "light"
     },
     "output_type": "display_data"
    }
   ],
   "source": [
    "sns.countplot(data=df,x='Classes',hue='Region')"
   ]
  },
  {
   "cell_type": "markdown",
   "id": "171e7d2f",
   "metadata": {},
   "source": [
    "Obserbvation: By seeing the above graph, we can conclude fire has happened Sidi Bel-abbes region than Bejaia region.\n"
   ]
  },
  {
   "cell_type": "code",
   "execution_count": 21,
   "id": "2d4c5e4e",
   "metadata": {},
   "outputs": [
    {
     "name": "stdout",
     "output_type": "stream",
     "text": [
      "['day', 'month', 'year', 'Temperature', 'RH', 'Ws', 'Rain', 'FFMC', 'DMC', 'DC', 'ISI', 'BUI', 'FWI', 'Region']\n"
     ]
    }
   ],
   "source": [
    "#Getting a list of Numerical Features.\n",
    "num_feature= [feature for feature in df.columns if df[feature].dtypes!=\"O\"]\n",
    "print(num_feature)"
   ]
  },
  {
   "cell_type": "code",
   "execution_count": 22,
   "id": "76e74963",
   "metadata": {},
   "outputs": [
    {
     "data": {
      "text/plain": [
       "day             31\n",
       "month            4\n",
       "year             1\n",
       "Temperature     19\n",
       "RH              62\n",
       "Ws              18\n",
       "Rain            39\n",
       "FFMC           173\n",
       "DMC            166\n",
       "DC             198\n",
       "ISI            106\n",
       "BUI            174\n",
       "FWI            125\n",
       "Region           2\n",
       "dtype: int64"
      ]
     },
     "execution_count": 22,
     "metadata": {},
     "output_type": "execute_result"
    }
   ],
   "source": [
    "# Getting a count of unique values in numerical features.\n",
    "df[num_feature].nunique()"
   ]
  },
  {
   "cell_type": "code",
   "execution_count": 23,
   "id": "e1be1367",
   "metadata": {},
   "outputs": [
    {
     "data": {
      "text/plain": [
       "['day', 'month', 'year', 'Temperature', 'Ws', 'Region']"
      ]
     },
     "execution_count": 23,
     "metadata": {},
     "output_type": "execute_result"
    }
   ],
   "source": [
    "#Classifing the Discrete and Continous features that is if the features are less than 35 in length then it is Discrete otherwise it is Continuos\n",
    "\n",
    "\n",
    "discrete_features=[feature for feature in num_feature if len(df[feature].unique())<35]\n",
    "discrete_features"
   ]
  },
  {
   "cell_type": "markdown",
   "id": "47d08b41",
   "metadata": {},
   "source": [
    "Discrete Features v/s Target Feature "
   ]
  },
  {
   "cell_type": "code",
   "execution_count": 24,
   "id": "a9f194e9",
   "metadata": {},
   "outputs": [
    {
     "data": {
      "image/png": "[encoded data removed]",
      "text/plain": [
       "<Figure size 432x288 with 1 Axes>"
      ]
     },
     "metadata": {
      "needs_background": "light"
     },
     "output_type": "display_data"
    },
    {
     "data": {
      "image/png": "[encoded data removed]",
      "text/plain": [
       "<Figure size 432x288 with 1 Axes>"
      ]
     },
     "metadata": {
      "needs_background": "light"
     },
     "output_type": "display_data"
    },
    {
     "data": {
      "image/png": "[encoded data removed]",
      "text/plain": [
       "<Figure size 432x288 with 1 Axes>"
      ]
     },
     "metadata": {
      "needs_background": "light"
     },
     "output_type": "display_data"
    },
    {
     "data": {
      "image/png": "[encoded data removed]",
      "text/plain": [
       "<Figure size 432x288 with 1 Axes>"
      ]
     },
     "metadata": {
      "needs_background": "light"
     },
     "output_type": "display_data"
    },
    {
     "data": {
      "image/png": "[encoded data removed]",
      "text/plain": [
       "<Figure size 432x288 with 1 Axes>"
      ]
     },
     "metadata": {
      "needs_background": "light"
     },
     "output_type": "display_data"
    },
    {
     "data": {
      "image/png": "[encoded data removed]",
      "text/plain": [
       "<Figure size 432x288 with 1 Axes>"
      ]
     },
     "metadata": {
      "needs_background": "light"
     },
     "output_type": "display_data"
    }
   ],
   "source": [
    "for feature in discrete_features:\n",
    "    sns.countplot(data=df, x=feature, hue='Classes')\n",
    "    plt.show()"
   ]
  },
  {
   "cell_type": "markdown",
   "id": "112b5b6f",
   "metadata": {},
   "source": [
    "Observations:\n",
    "1. By day vs Classes, it is observed that almost everyday fire has occured.\n",
    "2. By Month vs Classes, it observer that fire has occured more in July and August compare to June and September\n",
    "3. By August month number od cases is more.\n",
    "4. Fire Cases has occured more than the No Fire Cases.\n",
    "5. By Temp vs Classes, it tells if the temp is between 31 deg to 37 deg, Fire cases are more\n",
    "6. By WS vs Classes, it tells if the Wind speed is between 13 KMPH to 19 KMPH, Fire cases are more"
   ]
  },
  {
   "cell_type": "code",
   "execution_count": 25,
   "id": "c99c6efa",
   "metadata": {},
   "outputs": [
    {
     "data": {
      "text/plain": [
       "['RH', 'Rain', 'FFMC', 'DMC', 'DC', 'ISI', 'BUI', 'FWI']"
      ]
     },
     "execution_count": 25,
     "metadata": {},
     "output_type": "execute_result"
    }
   ],
   "source": [
    "#Generating Continuous Features\n",
    "\n",
    "Continuous_feature=[feature for feature in num_feature if feature not in discrete_features]\n",
    "Continuous_feature"
   ]
  },
  {
   "cell_type": "code",
   "execution_count": 26,
   "id": "42afbd26",
   "metadata": {},
   "outputs": [
    {
     "data": {
      "image/png": "[encoded data removed]",
      "text/plain": [
       "<Figure size 432x288 with 1 Axes>"
      ]
     },
     "metadata": {
      "needs_background": "light"
     },
     "output_type": "display_data"
    },
    {
     "data": {
      "image/png": "[encoded data removed]",
      "text/plain": [
       "<Figure size 432x288 with 1 Axes>"
      ]
     },
     "metadata": {
      "needs_background": "light"
     },
     "output_type": "display_data"
    },
    {
     "data": {
      "image/png": "[encoded data removed]",
      "text/plain": [
       "<Figure size 432x288 with 1 Axes>"
      ]
     },
     "metadata": {
      "needs_background": "light"
     },
     "output_type": "display_data"
    },
    {
     "data": {
      "image/png": "[encoded data removed]",
      "text/plain": [
       "<Figure size 432x288 with 1 Axes>"
      ]
     },
     "metadata": {
      "needs_background": "light"
     },
     "output_type": "display_data"
    },
    {
     "data": {
      "image/png": "[encoded data removed]",
      "text/plain": [
       "<Figure size 432x288 with 1 Axes>"
      ]
     },
     "metadata": {
      "needs_background": "light"
     },
     "output_type": "display_data"
    },
    {
     "data": {
      "image/png": "[encoded data removed]",
      "text/plain": [
       "<Figure size 432x288 with 1 Axes>"
      ]
     },
     "metadata": {
      "needs_background": "light"
     },
     "output_type": "display_data"
    },
    {
     "data": {
      "image/png": "[encoded data removed]",
      "text/plain": [
       "<Figure size 432x288 with 1 Axes>"
      ]
     },
     "metadata": {
      "needs_background": "light"
     },
     "output_type": "display_data"
    },
    {
     "data": {
      "image/png": "[encoded data removed]",
      "text/plain": [
       "<Figure size 432x288 with 1 Axes>"
      ]
     },
     "metadata": {
      "needs_background": "light"
     },
     "output_type": "display_data"
    }
   ],
   "source": [
    "#Checking plots for Continuous features.\n",
    "\n",
    "for feature in Continuous_feature:\n",
    "    sns.histplot(data=df, x=feature, kde=True, bins=30, color='blue')\n",
    "    plt.show() "
   ]
  },
  {
   "cell_type": "markdown",
   "id": "10e7974d",
   "metadata": {},
   "source": [
    "Observations:\n",
    " 1. RH graph follows Gaussian Disturbion.\n",
    " 2. FFMC graph follows left skewed distribution.\n",
    " 3. Rain, DMC, DC, ISI, BUI, FWI are follows right skewed distribution(Log-Normal distribution)."
   ]
  },
  {
   "cell_type": "code",
   "execution_count": 27,
   "id": "c1fa0bd0",
   "metadata": {},
   "outputs": [
    {
     "data": {
      "image/png": "[encoded data removed]",
      "text/plain": [
       "<Figure size 432x288 with 1 Axes>"
      ]
     },
     "metadata": {
      "needs_background": "light"
     },
     "output_type": "display_data"
    },
    {
     "data": {
      "image/png": "[encoded data removed]",
      "text/plain": [
       "<Figure size 432x288 with 1 Axes>"
      ]
     },
     "metadata": {
      "needs_background": "light"
     },
     "output_type": "display_data"
    },
    {
     "data": {
      "image/png": "[encoded data removed]",
      "text/plain": [
       "<Figure size 432x288 with 1 Axes>"
      ]
     },
     "metadata": {
      "needs_background": "light"
     },
     "output_type": "display_data"
    },
    {
     "data": {
      "image/png": "[encoded data removed]",
      "text/plain": [
       "<Figure size 432x288 with 1 Axes>"
      ]
     },
     "metadata": {
      "needs_background": "light"
     },
     "output_type": "display_data"
    },
    {
     "data": {
      "image/png": "[encoded data removed]",
      "text/plain": [
       "<Figure size 432x288 with 1 Axes>"
      ]
     },
     "metadata": {
      "needs_background": "light"
     },
     "output_type": "display_data"
    },
    {
     "data": {
      "image/png": "[encoded data removed]",
      "text/plain": [
       "<Figure size 432x288 with 1 Axes>"
      ]
     },
     "metadata": {
      "needs_background": "light"
     },
     "output_type": "display_data"
    },
    {
     "data": {
      "image/png": "[encoded data removed]",
      "text/plain": [
       "<Figure size 432x288 with 1 Axes>"
      ]
     },
     "metadata": {
      "needs_background": "light"
     },
     "output_type": "display_data"
    },
    {
     "data": {
      "image/png": "[encoded data removed]",
      "text/plain": [
       "<Figure size 432x288 with 1 Axes>"
      ]
     },
     "metadata": {
      "needs_background": "light"
     },
     "output_type": "display_data"
    },
    {
     "data": {
      "image/png": "[encoded data removed]",
      "text/plain": [
       "<Figure size 432x288 with 1 Axes>"
      ]
     },
     "metadata": {
      "needs_background": "light"
     },
     "output_type": "display_data"
    },
    {
     "data": {
      "image/png": "[encoded data removed]",
      "text/plain": [
       "<Figure size 432x288 with 1 Axes>"
      ]
     },
     "metadata": {
      "needs_background": "light"
     },
     "output_type": "display_data"
    }
   ],
   "source": [
    "#Checking for Outliners.\n",
    "#Excluding the features like Day, Month and Year for checking outliner.\n",
    "for feature in [feature for feature in num_feature if feature not in ['day', 'month', 'year', 'Region']]:\n",
    "    sns.boxplot(data=df, y=feature, color='y')\n",
    "    plt.title(feature)\n",
    "    plt.show()"
   ]
  },
  {
   "cell_type": "markdown",
   "id": "839eb344",
   "metadata": {},
   "source": [
    "Observations:\n",
    "1. RH feature doesnt have outliers.\n",
    "2. Temperature and FFMC have outliers in lower boundary side.\n",
    "3. Ws has outliers on both upper and lower sides.\n",
    "4. Rain, DMC,DC, ISI, BUI and FWI have outilers in upper boundary side."
   ]
  },
  {
   "cell_type": "code",
   "execution_count": 30,
   "id": "b4faa264",
   "metadata": {},
   "outputs": [
    {
     "data": {
      "text/html": [
       "<div>\n",
       "<style scoped>\n",
       "    .dataframe tbody tr th:only-of-type {\n",
       "        vertical-align: middle;\n",
       "    }\n",
       "\n",
       "    .dataframe tbody tr th {\n",
       "        vertical-align: top;\n",
       "    }\n",
       "\n",
       "    .dataframe thead th {\n",
       "        text-align: right;\n",
       "    }\n",
       "</style>\n",
       "<table border=\"1\" class=\"dataframe\">\n",
       "  <thead>\n",
       "    <tr style=\"text-align: right;\">\n",
       "      <th></th>\n",
       "      <th>Temperature</th>\n",
       "      <th>RH</th>\n",
       "      <th>Ws</th>\n",
       "      <th>Rain</th>\n",
       "      <th>FFMC</th>\n",
       "      <th>DMC</th>\n",
       "      <th>DC</th>\n",
       "      <th>ISI</th>\n",
       "      <th>BUI</th>\n",
       "      <th>FWI</th>\n",
       "    </tr>\n",
       "  </thead>\n",
       "  <tbody>\n",
       "    <tr>\n",
       "      <th>Temperature</th>\n",
       "      <td>1.00</td>\n",
       "      <td>-0.65</td>\n",
       "      <td>-0.28</td>\n",
       "      <td>-0.33</td>\n",
       "      <td>0.68</td>\n",
       "      <td>0.48</td>\n",
       "      <td>0.37</td>\n",
       "      <td>0.61</td>\n",
       "      <td>0.46</td>\n",
       "      <td>0.56</td>\n",
       "    </tr>\n",
       "    <tr>\n",
       "      <th>RH</th>\n",
       "      <td>-0.65</td>\n",
       "      <td>1.00</td>\n",
       "      <td>0.24</td>\n",
       "      <td>0.22</td>\n",
       "      <td>-0.65</td>\n",
       "      <td>-0.41</td>\n",
       "      <td>-0.22</td>\n",
       "      <td>-0.69</td>\n",
       "      <td>-0.35</td>\n",
       "      <td>-0.57</td>\n",
       "    </tr>\n",
       "    <tr>\n",
       "      <th>Ws</th>\n",
       "      <td>-0.28</td>\n",
       "      <td>0.24</td>\n",
       "      <td>1.00</td>\n",
       "      <td>0.17</td>\n",
       "      <td>-0.16</td>\n",
       "      <td>-0.00</td>\n",
       "      <td>0.08</td>\n",
       "      <td>0.02</td>\n",
       "      <td>0.03</td>\n",
       "      <td>0.03</td>\n",
       "    </tr>\n",
       "    <tr>\n",
       "      <th>Rain</th>\n",
       "      <td>-0.33</td>\n",
       "      <td>0.22</td>\n",
       "      <td>0.17</td>\n",
       "      <td>1.00</td>\n",
       "      <td>-0.54</td>\n",
       "      <td>-0.29</td>\n",
       "      <td>-0.30</td>\n",
       "      <td>-0.35</td>\n",
       "      <td>-0.30</td>\n",
       "      <td>-0.32</td>\n",
       "    </tr>\n",
       "    <tr>\n",
       "      <th>FFMC</th>\n",
       "      <td>0.68</td>\n",
       "      <td>-0.65</td>\n",
       "      <td>-0.16</td>\n",
       "      <td>-0.54</td>\n",
       "      <td>1.00</td>\n",
       "      <td>0.60</td>\n",
       "      <td>0.50</td>\n",
       "      <td>0.74</td>\n",
       "      <td>0.59</td>\n",
       "      <td>0.69</td>\n",
       "    </tr>\n",
       "    <tr>\n",
       "      <th>DMC</th>\n",
       "      <td>0.48</td>\n",
       "      <td>-0.41</td>\n",
       "      <td>-0.00</td>\n",
       "      <td>-0.29</td>\n",
       "      <td>0.60</td>\n",
       "      <td>1.00</td>\n",
       "      <td>0.88</td>\n",
       "      <td>0.67</td>\n",
       "      <td>0.98</td>\n",
       "      <td>0.87</td>\n",
       "    </tr>\n",
       "    <tr>\n",
       "      <th>DC</th>\n",
       "      <td>0.37</td>\n",
       "      <td>-0.22</td>\n",
       "      <td>0.08</td>\n",
       "      <td>-0.30</td>\n",
       "      <td>0.50</td>\n",
       "      <td>0.88</td>\n",
       "      <td>1.00</td>\n",
       "      <td>0.50</td>\n",
       "      <td>0.94</td>\n",
       "      <td>0.74</td>\n",
       "    </tr>\n",
       "    <tr>\n",
       "      <th>ISI</th>\n",
       "      <td>0.61</td>\n",
       "      <td>-0.69</td>\n",
       "      <td>0.02</td>\n",
       "      <td>-0.35</td>\n",
       "      <td>0.74</td>\n",
       "      <td>0.67</td>\n",
       "      <td>0.50</td>\n",
       "      <td>1.00</td>\n",
       "      <td>0.64</td>\n",
       "      <td>0.91</td>\n",
       "    </tr>\n",
       "    <tr>\n",
       "      <th>BUI</th>\n",
       "      <td>0.46</td>\n",
       "      <td>-0.35</td>\n",
       "      <td>0.03</td>\n",
       "      <td>-0.30</td>\n",
       "      <td>0.59</td>\n",
       "      <td>0.98</td>\n",
       "      <td>0.94</td>\n",
       "      <td>0.64</td>\n",
       "      <td>1.00</td>\n",
       "      <td>0.86</td>\n",
       "    </tr>\n",
       "    <tr>\n",
       "      <th>FWI</th>\n",
       "      <td>0.56</td>\n",
       "      <td>-0.57</td>\n",
       "      <td>0.03</td>\n",
       "      <td>-0.32</td>\n",
       "      <td>0.69</td>\n",
       "      <td>0.87</td>\n",
       "      <td>0.74</td>\n",
       "      <td>0.91</td>\n",
       "      <td>0.86</td>\n",
       "      <td>1.00</td>\n",
       "    </tr>\n",
       "  </tbody>\n",
       "</table>\n",
       "</div>"
      ],
      "text/plain": [
       "             Temperature    RH    Ws  Rain  FFMC   DMC    DC   ISI   BUI   FWI\n",
       "Temperature         1.00 -0.65 -0.28 -0.33  0.68  0.48  0.37  0.61  0.46  0.56\n",
       "RH                 -0.65  1.00  0.24  0.22 -0.65 -0.41 -0.22 -0.69 -0.35 -0.57\n",
       "Ws                 -0.28  0.24  1.00  0.17 -0.16 -0.00  0.08  0.02  0.03  0.03\n",
       "Rain               -0.33  0.22  0.17  1.00 -0.54 -0.29 -0.30 -0.35 -0.30 -0.32\n",
       "FFMC                0.68 -0.65 -0.16 -0.54  1.00  0.60  0.50  0.74  0.59  0.69\n",
       "DMC                 0.48 -0.41 -0.00 -0.29  0.60  1.00  0.88  0.67  0.98  0.87\n",
       "DC                  0.37 -0.22  0.08 -0.30  0.50  0.88  1.00  0.50  0.94  0.74\n",
       "ISI                 0.61 -0.69  0.02 -0.35  0.74  0.67  0.50  1.00  0.64  0.91\n",
       "BUI                 0.46 -0.35  0.03 -0.30  0.59  0.98  0.94  0.64  1.00  0.86\n",
       "FWI                 0.56 -0.57  0.03 -0.32  0.69  0.87  0.74  0.91  0.86  1.00"
      ]
     },
     "execution_count": 30,
     "metadata": {},
     "output_type": "execute_result"
    }
   ],
   "source": [
    "#Correlation between each numerical data.\n",
    "data= round(df[[feature for feature in num_feature if feature not in ['day', 'month', 'year', 'Region']]].corr(),2)\n",
    "data"
   ]
  },
  {
   "cell_type": "code",
   "execution_count": 34,
   "id": "ad75ef3a",
   "metadata": {},
   "outputs": [
    {
     "data": {
      "text/plain": [
       "<AxesSubplot:>"
      ]
     },
     "execution_count": 34,
     "metadata": {},
     "output_type": "execute_result"
    },
    {
     "data": {
      "image/png": "[encoded data removed]",
      "text/plain": [
       "<Figure size 1080x720 with 2 Axes>"
      ]
     },
     "metadata": {},
     "output_type": "display_data"
    }
   ],
   "source": [
    "#Heat map for the visualizing correlated data.\n",
    "sns.set(rc={'figure.figsize':(15,10)})\n",
    "sns.heatmap(data=data,vmin=-1, vmax=1,annot=True)"
   ]
  },
  {
   "cell_type": "markdown",
   "id": "feba16cf",
   "metadata": {},
   "source": [
    "Points to remember:\n",
    "1. If Correlation coefficients between 0.9 and 1.0, very highly correlated.\n",
    "2. If Correlation coefficients between 0.7 and 0.9, highly correlated.\n",
    "3. If Correlation coefficients between 0.5 and 0.7, moderately correlated\n",
    "4. If Correlation coefficients between 0.3 and 0.5, low correlated\n",
    "5. If Correlation coefficients is less than 0.3, little correlated\n",
    "\n",
    "Observations:\n",
    "By seeing the heatmap, we can conclude that \n",
    "1. DC-BUI, DMC-BUI and ISI-FWI are very highly correalted.\n",
    "2. ISI-FFMC, DMC-FMI, DMC-DC, DMC-FWI, BUI-FWI and DC-FWI are highly correalted."
   ]
  },
  {
   "cell_type": "markdown",
   "id": "56c827f3",
   "metadata": {},
   "source": [
    "# Final Report"
   ]
  },
  {
   "cell_type": "markdown",
   "id": "19d05ccd",
   "metadata": {},
   "source": [
    "1. There is no null value present in the dataset\n",
    "2. No. of Fire cases had happened in Sidi Bel-abbes region than Bejaia region.\n",
    "3. It observed that almost everyday fire has occured.\n",
    "4. It observer that fire has occured more in July and August compare to June and September\n",
    "5. By August month number of cases is more.\n",
    "6. If the temp is between 31 deg to 37 deg, Fire cases are more that means in the hot area fire occured.\n",
    "7. If the Wind speed is between 13 KMPH to 19 KMPH, Fire cases are more\n",
    "8. RH feature doesnt have outliers.\n",
    "9. Temperature and FFMC have outliers in lower boundary side.\n",
    "10. Ws has outliers on both upper and lower sides.\n",
    "11. Rain, DMC,DC, ISI, BUI and FWI have outilers in upper boundary side\n",
    "12. DC-BUI, DMC-BUI and ISI-FWI are very highly correlated.\n"
   ]
  },
  {
   "cell_type": "code",
   "execution_count": null,
   "id": "569521e8",
   "metadata": {},
   "outputs": [],
   "source": []
  }
 ],
 "metadata": {
  "kernelspec": {
   "display_name": "Python 3 (ipykernel)",
   "language": "python",
   "name": "python3"
  },
  "language_info": {
   "codemirror_mode": {
    "name": "ipython",
    "version": 3
   },
   "file_extension": ".py",
   "mimetype": "text/x-python",
   "name": "python",
   "nbconvert_exporter": "python",
   "pygments_lexer": "ipython3",
   "version": "3.9.7"
  }
 },
 "nbformat": 4,
 "nbformat_minor": 5
}
